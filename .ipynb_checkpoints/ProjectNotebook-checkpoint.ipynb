{
 "cells": [
  {
   "cell_type": "markdown",
   "metadata": {},
   "source": [
    "# Project Description"
   ]
  },
  {
   "cell_type": "markdown",
   "metadata": {},
   "source": [
    "This project is a game which I called \"Don't Fall\"\n",
    "\n",
    "I created it with a python package called Pygame. The website of the package is https://www.pygame.org/news\n",
    "\n",
    "Basically, in this game, the player needs to controll a ball by moving it left or right to find the appropriate plates as stairs to go down. Otherwise the ball will just fall down freely and when the ball falls out of the bottom of the screen, we will lose. Besides, the ball can't stay at a plate for too long, because it will go up with the plate when it is halting on that plate and when the ball goes beyond the top of the screen, we will also lose.\n",
    "\n",
    "The score will increase as the time of your survival increases. When the score reaches 600 points and 2000 points, the speed of both your ball and all stairs will accelerate to make the game more challenging. After the game is over, your score will be printed to the terminal."
   ]
  },
  {
   "cell_type": "markdown",
   "metadata": {},
   "source": [
    "# Some Motivation"
   ]
  },
  {
   "cell_type": "markdown",
   "metadata": {},
   "source": [
    "The prototype of this game can be found as a pre-intalled game in Nokia old cell phones around 10 years ago. When I was in 4th grade in the primary school, one of my favourite things to do at school is to compete with my friends in that game to see who got the highest score. It's really a lot of fun to me at that time, so when I decided to make a simple 2D game as the final project, I thought that why not simulate a game like that?"
   ]
  },
  {
   "cell_type": "markdown",
   "metadata": {},
   "source": [
    "# How to Run the Game"
   ]
  },
  {
   "cell_type": "markdown",
   "metadata": {},
   "source": [
    "Running the game is simple, just open a terminal at the __scripts__ folder, and run:"
   ]
  },
  {
   "cell_type": "code",
   "execution_count": null,
   "metadata": {},
   "outputs": [],
   "source": [
    "python my_script.py"
   ]
  },
  {
   "cell_type": "markdown",
   "metadata": {},
   "source": [
    "If you found the game can't be run or there is some error, it is because you might need to install the pygame library. In the terminal at the project root folder, run:"
   ]
  },
  {
   "cell_type": "code",
   "execution_count": null,
   "metadata": {},
   "outputs": [],
   "source": [
    "python3 -m pip install -U pygame --user"
   ]
  },
  {
   "cell_type": "markdown",
   "metadata": {},
   "source": [
    "The detail of installing the package can be found at https://www.pygame.org/wiki/GettingStarted"
   ]
  }
 ],
 "metadata": {
  "kernelspec": {
   "display_name": "Python 3",
   "language": "python",
   "name": "python3"
  },
  "language_info": {
   "codemirror_mode": {
    "name": "ipython",
    "version": 3
   },
   "file_extension": ".py",
   "mimetype": "text/x-python",
   "name": "python",
   "nbconvert_exporter": "python",
   "pygments_lexer": "ipython3",
   "version": "3.7.1"
  }
 },
 "nbformat": 4,
 "nbformat_minor": 2
}
